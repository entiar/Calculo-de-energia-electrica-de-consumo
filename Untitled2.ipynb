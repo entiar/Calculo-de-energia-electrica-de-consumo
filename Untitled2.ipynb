{
 "cells": [
  {
   "cell_type": "markdown",
   "id": "4e17f173",
   "metadata": {},
   "source": [
    "Energia electrica\n",
    "=="
   ]
  },
  {
   "cell_type": "markdown",
   "id": "a6305851",
   "metadata": {},
   "source": [
    "La energía eléctrica se mide en watts por hora, y se calcula así:\n",
    "\n",
    "$$E=\\frac{W}{t}$$\n",
    "\n",
    "si queremos calcular la energía total de consumo de un conjunto de resistencias podemos generalizar:\n",
    "\n",
    "$$\\sum E$$\n",
    "\n",
    "\n",
    "podenos realizar un programa simple para calcular la energía de consumo de un dispositivo electrónico."
   ]
  },
  {
   "cell_type": "code",
   "execution_count": 1,
   "id": "148b176d",
   "metadata": {
    "scrolled": true
   },
   "outputs": [
    {
     "name": "stdout",
     "output_type": "stream",
     "text": [
      "Introduzca la potencia de consumo del aparato electrico en WATTS\n",
      "> 32\n",
      "Introduzca el tiempo de uso en un dia en HORAS\n",
      "> 3\n",
      "La energia de consumo en un dia es:  10.667 WATTS/HORA\n"
     ]
    }
   ],
   "source": [
    "#calculadora de energía eléctrica. \n",
    "print(\"Introduzca la potencia de consumo del aparato electrico en WATTS\")\n",
    "potencia = int(input(\"> \"))\n",
    "\n",
    "print(\"Introduzca el tiempo de uso en un dia en HORAS\")\n",
    "tiempo =  int(input(\"> \"))\n",
    "energia  = potencia/tiempo\n",
    "print(\"La energia de consumo en un dia es: \", round(energia,3), \"WATTS/HORA\")"
   ]
  },
  {
   "cell_type": "markdown",
   "id": "43919b27",
   "metadata": {},
   "source": [
    "Para calcular la suma total de energia de varias fuentes de consumo utilizaremos el blucle for para cargar los datos del usuario."
   ]
  },
  {
   "cell_type": "code",
   "execution_count": 3,
   "id": "13845885",
   "metadata": {},
   "outputs": [
    {
     "name": "stdout",
     "output_type": "stream",
     "text": [
      "Si quiere ya introducio todos los datos escriba 0 en para optener su dato\n",
      "Introduzca la potencia de consumo del aparato 1 electrico en WATTS\n",
      "> 400\n",
      "Introduzca el tiempo de uso del aparato  1  en horas\n",
      "> 30\n",
      "Si quiere ya introducio todos los datos escriba 0 en para optener su dato\n",
      "Introduzca la potencia de consumo del aparato 2 electrico en WATTS\n",
      "> 112\n",
      "Introduzca el tiempo de uso del aparato  2  en horas\n",
      "> 3\n",
      "Si quiere ya introducio todos los datos escriba 0 en para optener su dato\n",
      "Introduzca la potencia de consumo del aparato 3 electrico en WATTS\n",
      "> 22\n",
      "Introduzca el tiempo de uso del aparato  3  en horas\n",
      "> 2\n",
      "Si quiere ya introducio todos los datos escriba 0 en para optener su dato\n",
      "Introduzca la potencia de consumo del aparato 4 electrico en WATTS\n",
      "> 0\n",
      "Introduzca el tiempo de uso del aparato  4  en horas\n",
      "> 0\n",
      "Fin del cálculo\n",
      "La energia de consumo en un dia es:  61.667 WATTS/HORA\n",
      "La energia de consumo en un mes estimado es:  1850.01 WATTS/HORA\n",
      "La energia de consumo en un año estimado es:  22508.455 WATTS/HORA\n"
     ]
    }
   ],
   "source": [
    "i=1\n",
    "energiai = 0\n",
    "potencia = 1\n",
    "while potencia == 1:\n",
    "    print(\"Si quiere ya introducio todos los datos escriba 0 en para optener su dato\")\n",
    "    print(\"Introduzca la potencia de consumo del aparato\",i,\"electrico en WATTS\")\n",
    "    potencia = float(input(\"> \"))\n",
    "    print(\"Introduzca el tiempo de uso del aparato \",i, \" en horas\")\n",
    "    tiempo = float(input(\"> \"))\n",
    "    if tiempo!=0:\n",
    "        energia = potencia/tiempo\n",
    "        energiai  = energia + energiai\n",
    "        i+=1\n",
    "        potencia = 1\n",
    "    else:\n",
    "        print(\"Fin del cálculo\")\n",
    "        potencia = 0\n",
    "        \n",
    "    \n",
    "print(\"La energia de consumo en un dia es: \", round(energiai,3), \"WATTS/HORA\")\n",
    "print(\"La energia de consumo en un mes estimado es: \", 30*round(energiai,3), \"WATTS/HORA\")\n",
    "print(\"La energia de consumo en un año estimado es: \", 365*round(energiai,3), \"WATTS/HORA\")"
   ]
  },
  {
   "cell_type": "markdown",
   "id": "f2f4304d",
   "metadata": {},
   "source": [
    "El programa calcula la sumatoria de energia de consumo de cuaquier sistema de electronicos.\n"
   ]
  },
  {
   "cell_type": "code",
   "execution_count": null,
   "id": "0f9a918e",
   "metadata": {},
   "outputs": [],
   "source": []
  }
 ],
 "metadata": {
  "kernelspec": {
   "display_name": "Python 3",
   "language": "python",
   "name": "python3"
  },
  "language_info": {
   "codemirror_mode": {
    "name": "ipython",
    "version": 3
   },
   "file_extension": ".py",
   "mimetype": "text/x-python",
   "name": "python",
   "nbconvert_exporter": "python",
   "pygments_lexer": "ipython3",
   "version": "3.8.8"
  }
 },
 "nbformat": 4,
 "nbformat_minor": 5
}
